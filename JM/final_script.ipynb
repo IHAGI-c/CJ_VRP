{
  "nbformat": 4,
  "nbformat_minor": 0,
  "metadata": {
    "colab": {
      "name": "final_script.ipynb",
      "provenance": [],
      "collapsed_sections": []
    },
    "kernelspec": {
      "name": "python3",
      "display_name": "Python 3"
    },
    "language_info": {
      "name": "python"
    }
  },
  "cells": [
    {
      "cell_type": "code",
      "metadata": {
        "colab": {
          "base_uri": "https://localhost:8080/"
        },
        "id": "2cKC05dyEPQb",
        "outputId": "4c132bef-5370-496e-c292-ee0469083fcb"
      },
      "source": [
        "from google.colab import drive\n",
        "import os\n",
        "\n",
        "drive.mount('/gdrive/', force_remount=True)\n",
        "PATH = \"/gdrive/MyDrive/CJ/2. 택배 배송 데이터/\"  # 택배 배송 데이터 PATH\n",
        "takbe_CSVs = os.listdir(PATH_FC)\n",
        "\n",
        "takbe_CSVs"
      ],
      "execution_count": null,
      "outputs": [
        {
          "output_type": "stream",
          "name": "stdout",
          "text": [
            "Mounted at /gdrive/\n"
          ]
        },
        {
          "output_type": "execute_result",
          "data": {
            "text/plain": [
              "['2-1. 택배 배송 데이터.xlsx',\n",
              " '2-2. 택배 배송 데이터.xlsx',\n",
              " '2-3. 택배 배송 데이터.xlsx',\n",
              " '2-4. 택배 배송 데이터.xlsx',\n",
              " '2-5. 택배 배송 데이터.xlsx',\n",
              " '2-6. 택배 배송 데이터.xlsx',\n",
              " '2-7. 택배 배송 데이터.xlsx',\n",
              " '2-8. 택배 배송 데이터.xlsx',\n",
              " '2-9. 택배 배송 데이터.xlsx',\n",
              " '2-10. 택배 배송 데이터.xlsx',\n",
              " '2-11. 택배 배송 데이터.xlsx',\n",
              " '2-12. 택배 배송 데이터.xlsx',\n",
              " '2-13. 택배 배송 데이터.xlsx',\n",
              " '2-14. 택배 배송 데이터.xlsx']"
            ]
          },
          "metadata": {},
          "execution_count": 2
        }
      ]
    },
    {
      "cell_type": "code",
      "metadata": {
        "id": "A9b8BBnnGJm_"
      },
      "source": [
        "import pandas as pd\n",
        "\n",
        "df1 = pd.read_excel(PATH + takbe_CSVs[0])\n",
        "df2 = pd.read_excel(PATH + takbe_CSVs[1])\n",
        "df3 = pd.read_excel(PATH + takbe_CSVs[2])\n",
        "df4 = pd.read_excel(PATH + takbe_CSVs[3])\n",
        "df5 = pd.read_excel(PATH + takbe_CSVs[4])\n",
        "df6 = pd.read_excel(PATH + takbe_CSVs[5])\n",
        "df7 = pd.read_excel(PATH + takbe_CSVs[6])\n",
        "df8 = pd.read_excel(PATH + takbe_CSVs[7])\n",
        "df9 = pd.read_excel(PATH + takbe_CSVs[8])\n",
        "df10 = pd.read_excel(PATH + takbe_CSVs[9])\n",
        "df11 = pd.read_excel(PATH + takbe_CSVs[10])\n",
        "df12 = pd.read_excel(PATH + takbe_CSVs[11])\n",
        "df13 = pd.read_excel(PATH + takbe_CSVs[12])\n",
        "df14 = pd.read_excel(PATH + takbe_CSVs[13])\n",
        "\n",
        "df_all = pd.concat([df1, df2, df3, df4, df5, df6, df7, df8, df9, df10, df11, df12, df13, df14])"
      ],
      "execution_count": null,
      "outputs": []
    },
    {
      "cell_type": "code",
      "metadata": {
        "colab": {
          "base_uri": "https://localhost:8080/",
          "height": 143
        },
        "id": "LHriCYpYSlqa",
        "outputId": "6f399164-6c29-49e6-f453-0ad165c8ac5e"
      },
      "source": [
        "df_all.head(3)"
      ],
      "execution_count": null,
      "outputs": [
        {
          "output_type": "execute_result",
          "data": {
            "text/html": [
              "<div>\n",
              "<style scoped>\n",
              "    .dataframe tbody tr th:only-of-type {\n",
              "        vertical-align: middle;\n",
              "    }\n",
              "\n",
              "    .dataframe tbody tr th {\n",
              "        vertical-align: top;\n",
              "    }\n",
              "\n",
              "    .dataframe thead th {\n",
              "        text-align: right;\n",
              "    }\n",
              "</style>\n",
              "<table border=\"1\" class=\"dataframe\">\n",
              "  <thead>\n",
              "    <tr style=\"text-align: right;\">\n",
              "      <th></th>\n",
              "      <th>Unnamed: 0</th>\n",
              "      <th>구분명</th>\n",
              "      <th>집화일자</th>\n",
              "      <th>집배일자</th>\n",
              "      <th>운임명</th>\n",
              "      <th>수량(BOX)</th>\n",
              "      <th>운임</th>\n",
              "      <th>집화여부</th>\n",
              "      <th>집배시간</th>\n",
              "      <th>배달일자</th>\n",
              "      <th>장비구분</th>\n",
              "      <th>품목</th>\n",
              "      <th>SM명</th>\n",
              "      <th>받는분주소</th>\n",
              "    </tr>\n",
              "  </thead>\n",
              "  <tbody>\n",
              "    <tr>\n",
              "      <th>0</th>\n",
              "      <td>0</td>\n",
              "      <td>배달</td>\n",
              "      <td>2021-03-02</td>\n",
              "      <td>2021-03-03</td>\n",
              "      <td>신용</td>\n",
              "      <td>1</td>\n",
              "      <td>5000</td>\n",
              "      <td>Y</td>\n",
              "      <td>190148</td>\n",
              "      <td>2021-03-03</td>\n",
              "      <td>스마트폰</td>\n",
              "      <td>식품</td>\n",
              "      <td>57</td>\n",
              "      <td>경기도 화성시 장안면 매바위로366번길 8 (주)BIT범우연구소</td>\n",
              "    </tr>\n",
              "    <tr>\n",
              "      <th>1</th>\n",
              "      <td>1</td>\n",
              "      <td>배달</td>\n",
              "      <td>2021-03-02</td>\n",
              "      <td>2021-03-03</td>\n",
              "      <td>선불</td>\n",
              "      <td>1</td>\n",
              "      <td>3500</td>\n",
              "      <td>Y</td>\n",
              "      <td>190149</td>\n",
              "      <td>2021-03-03</td>\n",
              "      <td>스마트폰</td>\n",
              "      <td>식품</td>\n",
              "      <td>57</td>\n",
              "      <td>경기도 화성시 장안면 버들로</td>\n",
              "    </tr>\n",
              "    <tr>\n",
              "      <th>2</th>\n",
              "      <td>2</td>\n",
              "      <td>배달</td>\n",
              "      <td>2021-03-01</td>\n",
              "      <td>2021-03-02</td>\n",
              "      <td>신용</td>\n",
              "      <td>1</td>\n",
              "      <td>2500</td>\n",
              "      <td>Y</td>\n",
              "      <td>143956</td>\n",
              "      <td>2021-03-02</td>\n",
              "      <td>스마트폰</td>\n",
              "      <td>식품</td>\n",
              "      <td>57</td>\n",
              "      <td>경기도 화성시 장안면 석포리</td>\n",
              "    </tr>\n",
              "  </tbody>\n",
              "</table>\n",
              "</div>"
            ],
            "text/plain": [
              "   Unnamed: 0 구분명       집화일자  ...  품목 SM명                                받는분주소\n",
              "0           0  배달 2021-03-02  ...  식품  57  경기도 화성시 장안면 매바위로366번길 8 (주)BIT범우연구소\n",
              "1           1  배달 2021-03-02  ...  식품  57                      경기도 화성시 장안면 버들로\n",
              "2           2  배달 2021-03-01  ...  식품  57                      경기도 화성시 장안면 석포리\n",
              "\n",
              "[3 rows x 14 columns]"
            ]
          },
          "metadata": {},
          "execution_count": 10
        }
      ]
    },
    {
      "cell_type": "code",
      "metadata": {
        "id": "68pAstgOTas1"
      },
      "source": [
        "df = df_all.drop(['Unnamed: 0', '구분명', '집화일자', '집배일자', '운임명', '집화여부', '집배일자', '장비구분', '품목'], axis=1)"
      ],
      "execution_count": null,
      "outputs": []
    },
    {
      "cell_type": "code",
      "metadata": {
        "colab": {
          "base_uri": "https://localhost:8080/",
          "height": 143
        },
        "id": "a5b2a6zXTyhg",
        "outputId": "9c7fedd3-4099-494f-fa71-f0d90f4a0a2b"
      },
      "source": [
        "df.head(3)"
      ],
      "execution_count": null,
      "outputs": [
        {
          "output_type": "execute_result",
          "data": {
            "text/html": [
              "<div>\n",
              "<style scoped>\n",
              "    .dataframe tbody tr th:only-of-type {\n",
              "        vertical-align: middle;\n",
              "    }\n",
              "\n",
              "    .dataframe tbody tr th {\n",
              "        vertical-align: top;\n",
              "    }\n",
              "\n",
              "    .dataframe thead th {\n",
              "        text-align: right;\n",
              "    }\n",
              "</style>\n",
              "<table border=\"1\" class=\"dataframe\">\n",
              "  <thead>\n",
              "    <tr style=\"text-align: right;\">\n",
              "      <th></th>\n",
              "      <th>수량(BOX)</th>\n",
              "      <th>운임</th>\n",
              "      <th>집배시간</th>\n",
              "      <th>배달일자</th>\n",
              "      <th>SM명</th>\n",
              "      <th>받는분주소</th>\n",
              "    </tr>\n",
              "  </thead>\n",
              "  <tbody>\n",
              "    <tr>\n",
              "      <th>0</th>\n",
              "      <td>1</td>\n",
              "      <td>5000</td>\n",
              "      <td>190148</td>\n",
              "      <td>2021-03-03</td>\n",
              "      <td>57</td>\n",
              "      <td>경기도 화성시 장안면 매바위로366번길 8 (주)BIT범우연구소</td>\n",
              "    </tr>\n",
              "    <tr>\n",
              "      <th>1</th>\n",
              "      <td>1</td>\n",
              "      <td>3500</td>\n",
              "      <td>190149</td>\n",
              "      <td>2021-03-03</td>\n",
              "      <td>57</td>\n",
              "      <td>경기도 화성시 장안면 버들로</td>\n",
              "    </tr>\n",
              "    <tr>\n",
              "      <th>2</th>\n",
              "      <td>1</td>\n",
              "      <td>2500</td>\n",
              "      <td>143956</td>\n",
              "      <td>2021-03-02</td>\n",
              "      <td>57</td>\n",
              "      <td>경기도 화성시 장안면 석포리</td>\n",
              "    </tr>\n",
              "  </tbody>\n",
              "</table>\n",
              "</div>"
            ],
            "text/plain": [
              "   수량(BOX)    운임    집배시간       배달일자  SM명                                받는분주소\n",
              "0        1  5000  190148 2021-03-03   57  경기도 화성시 장안면 매바위로366번길 8 (주)BIT범우연구소\n",
              "1        1  3500  190149 2021-03-03   57                      경기도 화성시 장안면 버들로\n",
              "2        1  2500  143956 2021-03-02   57                      경기도 화성시 장안면 석포리"
            ]
          },
          "metadata": {},
          "execution_count": 14
        }
      ]
    },
    {
      "cell_type": "markdown",
      "metadata": {
        "id": "rrrkmYvQT6Jc"
      },
      "source": [
        "# SM groupby 로 택배 용량 확인"
      ]
    },
    {
      "cell_type": "code",
      "metadata": {
        "colab": {
          "base_uri": "https://localhost:8080/",
          "height": 455
        },
        "id": "You0TXlzT2xv",
        "outputId": "7998e288-9e16-4273-af85-6a4786687027"
      },
      "source": [
        "df_SM = df[['SM명', '배달일자', '수량(BOX)', '운임']].groupby(['SM명', '배달일자']).sum()\n",
        "df_SM['val'] = df_SM['운임'] / df_SM['수량(BOX)']\n",
        "df_SM"
      ],
      "execution_count": null,
      "outputs": [
        {
          "output_type": "execute_result",
          "data": {
            "text/html": [
              "<div>\n",
              "<style scoped>\n",
              "    .dataframe tbody tr th:only-of-type {\n",
              "        vertical-align: middle;\n",
              "    }\n",
              "\n",
              "    .dataframe tbody tr th {\n",
              "        vertical-align: top;\n",
              "    }\n",
              "\n",
              "    .dataframe thead th {\n",
              "        text-align: right;\n",
              "    }\n",
              "</style>\n",
              "<table border=\"1\" class=\"dataframe\">\n",
              "  <thead>\n",
              "    <tr style=\"text-align: right;\">\n",
              "      <th></th>\n",
              "      <th></th>\n",
              "      <th>수량(BOX)</th>\n",
              "      <th>운임</th>\n",
              "      <th>val</th>\n",
              "    </tr>\n",
              "    <tr>\n",
              "      <th>SM명</th>\n",
              "      <th>배달일자</th>\n",
              "      <th></th>\n",
              "      <th></th>\n",
              "      <th></th>\n",
              "    </tr>\n",
              "  </thead>\n",
              "  <tbody>\n",
              "    <tr>\n",
              "      <th rowspan=\"5\" valign=\"top\">0</th>\n",
              "      <th>2021-03-02</th>\n",
              "      <td>80</td>\n",
              "      <td>294500</td>\n",
              "      <td>3681.250000</td>\n",
              "    </tr>\n",
              "    <tr>\n",
              "      <th>2021-03-03</th>\n",
              "      <td>553</td>\n",
              "      <td>2056000</td>\n",
              "      <td>3717.902351</td>\n",
              "    </tr>\n",
              "    <tr>\n",
              "      <th>2021-03-04</th>\n",
              "      <td>564</td>\n",
              "      <td>2093000</td>\n",
              "      <td>3710.992908</td>\n",
              "    </tr>\n",
              "    <tr>\n",
              "      <th>2021-03-05</th>\n",
              "      <td>518</td>\n",
              "      <td>1866000</td>\n",
              "      <td>3602.316602</td>\n",
              "    </tr>\n",
              "    <tr>\n",
              "      <th>2021-03-06</th>\n",
              "      <td>397</td>\n",
              "      <td>1445000</td>\n",
              "      <td>3639.798489</td>\n",
              "    </tr>\n",
              "    <tr>\n",
              "      <th>...</th>\n",
              "      <th>...</th>\n",
              "      <td>...</td>\n",
              "      <td>...</td>\n",
              "      <td>...</td>\n",
              "    </tr>\n",
              "    <tr>\n",
              "      <th rowspan=\"5\" valign=\"top\">282</th>\n",
              "      <th>2021-04-28</th>\n",
              "      <td>23</td>\n",
              "      <td>110500</td>\n",
              "      <td>4804.347826</td>\n",
              "    </tr>\n",
              "    <tr>\n",
              "      <th>2021-05-04</th>\n",
              "      <td>1</td>\n",
              "      <td>5000</td>\n",
              "      <td>5000.000000</td>\n",
              "    </tr>\n",
              "    <tr>\n",
              "      <th>2021-05-11</th>\n",
              "      <td>35</td>\n",
              "      <td>157000</td>\n",
              "      <td>4485.714286</td>\n",
              "    </tr>\n",
              "    <tr>\n",
              "      <th>2021-05-14</th>\n",
              "      <td>48</td>\n",
              "      <td>226500</td>\n",
              "      <td>4718.750000</td>\n",
              "    </tr>\n",
              "    <tr>\n",
              "      <th>2021-05-21</th>\n",
              "      <td>32</td>\n",
              "      <td>160500</td>\n",
              "      <td>5015.625000</td>\n",
              "    </tr>\n",
              "  </tbody>\n",
              "</table>\n",
              "<p>17869 rows × 3 columns</p>\n",
              "</div>"
            ],
            "text/plain": [
              "                수량(BOX)       운임          val\n",
              "SM명 배달일자                                     \n",
              "0   2021-03-02       80   294500  3681.250000\n",
              "    2021-03-03      553  2056000  3717.902351\n",
              "    2021-03-04      564  2093000  3710.992908\n",
              "    2021-03-05      518  1866000  3602.316602\n",
              "    2021-03-06      397  1445000  3639.798489\n",
              "...                 ...      ...          ...\n",
              "282 2021-04-28       23   110500  4804.347826\n",
              "    2021-05-04        1     5000  5000.000000\n",
              "    2021-05-11       35   157000  4485.714286\n",
              "    2021-05-14       48   226500  4718.750000\n",
              "    2021-05-21       32   160500  5015.625000\n",
              "\n",
              "[17869 rows x 3 columns]"
            ]
          },
          "metadata": {},
          "execution_count": 15
        }
      ]
    },
    {
      "cell_type": "code",
      "metadata": {
        "colab": {
          "base_uri": "https://localhost:8080/",
          "height": 607
        },
        "id": "EvzEqOEG5ws2",
        "outputId": "ebab9e25-91d5-468e-d3be-262a3324f31a"
      },
      "source": [
        "df_SM[(0, '2021-03-02')]"
      ],
      "execution_count": null,
      "outputs": [
        {
          "output_type": "error",
          "ename": "KeyError",
          "evalue": "ignored",
          "traceback": [
            "\u001b[0;31m---------------------------------------------------------------------------\u001b[0m",
            "\u001b[0;31mKeyError\u001b[0m                                  Traceback (most recent call last)",
            "\u001b[0;32m/usr/local/lib/python3.7/dist-packages/pandas/core/indexes/base.py\u001b[0m in \u001b[0;36mget_loc\u001b[0;34m(self, key, method, tolerance)\u001b[0m\n\u001b[1;32m   2897\u001b[0m             \u001b[0;32mtry\u001b[0m\u001b[0;34m:\u001b[0m\u001b[0;34m\u001b[0m\u001b[0;34m\u001b[0m\u001b[0m\n\u001b[0;32m-> 2898\u001b[0;31m                 \u001b[0;32mreturn\u001b[0m \u001b[0mself\u001b[0m\u001b[0;34m.\u001b[0m\u001b[0m_engine\u001b[0m\u001b[0;34m.\u001b[0m\u001b[0mget_loc\u001b[0m\u001b[0;34m(\u001b[0m\u001b[0mcasted_key\u001b[0m\u001b[0;34m)\u001b[0m\u001b[0;34m\u001b[0m\u001b[0;34m\u001b[0m\u001b[0m\n\u001b[0m\u001b[1;32m   2899\u001b[0m             \u001b[0;32mexcept\u001b[0m \u001b[0mKeyError\u001b[0m \u001b[0;32mas\u001b[0m \u001b[0merr\u001b[0m\u001b[0;34m:\u001b[0m\u001b[0;34m\u001b[0m\u001b[0;34m\u001b[0m\u001b[0m\n",
            "\u001b[0;32mpandas/_libs/index.pyx\u001b[0m in \u001b[0;36mpandas._libs.index.IndexEngine.get_loc\u001b[0;34m()\u001b[0m\n",
            "\u001b[0;32mpandas/_libs/index.pyx\u001b[0m in \u001b[0;36mpandas._libs.index.IndexEngine.get_loc\u001b[0;34m()\u001b[0m\n",
            "\u001b[0;32mpandas/_libs/hashtable_class_helper.pxi\u001b[0m in \u001b[0;36mpandas._libs.hashtable.PyObjectHashTable.get_item\u001b[0;34m()\u001b[0m\n",
            "\u001b[0;32mpandas/_libs/hashtable_class_helper.pxi\u001b[0m in \u001b[0;36mpandas._libs.hashtable.PyObjectHashTable.get_item\u001b[0;34m()\u001b[0m\n",
            "\u001b[0;31mKeyError\u001b[0m: (0, '2021-03-02')",
            "\nThe above exception was the direct cause of the following exception:\n",
            "\u001b[0;31mKeyError\u001b[0m                                  Traceback (most recent call last)",
            "\u001b[0;32m<ipython-input-38-5683fc7e3f88>\u001b[0m in \u001b[0;36m<module>\u001b[0;34m()\u001b[0m\n\u001b[0;32m----> 1\u001b[0;31m \u001b[0mdf_SM\u001b[0m\u001b[0;34m[\u001b[0m\u001b[0;34m(\u001b[0m\u001b[0;36m0\u001b[0m\u001b[0;34m,\u001b[0m \u001b[0;34m'2021-03-02'\u001b[0m\u001b[0;34m)\u001b[0m\u001b[0;34m]\u001b[0m\u001b[0;34m\u001b[0m\u001b[0;34m\u001b[0m\u001b[0m\n\u001b[0m",
            "\u001b[0;32m/usr/local/lib/python3.7/dist-packages/pandas/core/frame.py\u001b[0m in \u001b[0;36m__getitem__\u001b[0;34m(self, key)\u001b[0m\n\u001b[1;32m   2904\u001b[0m             \u001b[0;32mif\u001b[0m \u001b[0mself\u001b[0m\u001b[0;34m.\u001b[0m\u001b[0mcolumns\u001b[0m\u001b[0;34m.\u001b[0m\u001b[0mnlevels\u001b[0m \u001b[0;34m>\u001b[0m \u001b[0;36m1\u001b[0m\u001b[0;34m:\u001b[0m\u001b[0;34m\u001b[0m\u001b[0;34m\u001b[0m\u001b[0m\n\u001b[1;32m   2905\u001b[0m                 \u001b[0;32mreturn\u001b[0m \u001b[0mself\u001b[0m\u001b[0;34m.\u001b[0m\u001b[0m_getitem_multilevel\u001b[0m\u001b[0;34m(\u001b[0m\u001b[0mkey\u001b[0m\u001b[0;34m)\u001b[0m\u001b[0;34m\u001b[0m\u001b[0;34m\u001b[0m\u001b[0m\n\u001b[0;32m-> 2906\u001b[0;31m             \u001b[0mindexer\u001b[0m \u001b[0;34m=\u001b[0m \u001b[0mself\u001b[0m\u001b[0;34m.\u001b[0m\u001b[0mcolumns\u001b[0m\u001b[0;34m.\u001b[0m\u001b[0mget_loc\u001b[0m\u001b[0;34m(\u001b[0m\u001b[0mkey\u001b[0m\u001b[0;34m)\u001b[0m\u001b[0;34m\u001b[0m\u001b[0;34m\u001b[0m\u001b[0m\n\u001b[0m\u001b[1;32m   2907\u001b[0m             \u001b[0;32mif\u001b[0m \u001b[0mis_integer\u001b[0m\u001b[0;34m(\u001b[0m\u001b[0mindexer\u001b[0m\u001b[0;34m)\u001b[0m\u001b[0;34m:\u001b[0m\u001b[0;34m\u001b[0m\u001b[0;34m\u001b[0m\u001b[0m\n\u001b[1;32m   2908\u001b[0m                 \u001b[0mindexer\u001b[0m \u001b[0;34m=\u001b[0m \u001b[0;34m[\u001b[0m\u001b[0mindexer\u001b[0m\u001b[0;34m]\u001b[0m\u001b[0;34m\u001b[0m\u001b[0;34m\u001b[0m\u001b[0m\n",
            "\u001b[0;32m/usr/local/lib/python3.7/dist-packages/pandas/core/indexes/base.py\u001b[0m in \u001b[0;36mget_loc\u001b[0;34m(self, key, method, tolerance)\u001b[0m\n\u001b[1;32m   2898\u001b[0m                 \u001b[0;32mreturn\u001b[0m \u001b[0mself\u001b[0m\u001b[0;34m.\u001b[0m\u001b[0m_engine\u001b[0m\u001b[0;34m.\u001b[0m\u001b[0mget_loc\u001b[0m\u001b[0;34m(\u001b[0m\u001b[0mcasted_key\u001b[0m\u001b[0;34m)\u001b[0m\u001b[0;34m\u001b[0m\u001b[0;34m\u001b[0m\u001b[0m\n\u001b[1;32m   2899\u001b[0m             \u001b[0;32mexcept\u001b[0m \u001b[0mKeyError\u001b[0m \u001b[0;32mas\u001b[0m \u001b[0merr\u001b[0m\u001b[0;34m:\u001b[0m\u001b[0;34m\u001b[0m\u001b[0;34m\u001b[0m\u001b[0m\n\u001b[0;32m-> 2900\u001b[0;31m                 \u001b[0;32mraise\u001b[0m \u001b[0mKeyError\u001b[0m\u001b[0;34m(\u001b[0m\u001b[0mkey\u001b[0m\u001b[0;34m)\u001b[0m \u001b[0;32mfrom\u001b[0m \u001b[0merr\u001b[0m\u001b[0;34m\u001b[0m\u001b[0;34m\u001b[0m\u001b[0m\n\u001b[0m\u001b[1;32m   2901\u001b[0m \u001b[0;34m\u001b[0m\u001b[0m\n\u001b[1;32m   2902\u001b[0m         \u001b[0;32mif\u001b[0m \u001b[0mtolerance\u001b[0m \u001b[0;32mis\u001b[0m \u001b[0;32mnot\u001b[0m \u001b[0;32mNone\u001b[0m\u001b[0;34m:\u001b[0m\u001b[0;34m\u001b[0m\u001b[0;34m\u001b[0m\u001b[0m\n",
            "\u001b[0;31mKeyError\u001b[0m: (0, '2021-03-02')"
          ]
        }
      ]
    },
    {
      "cell_type": "code",
      "metadata": {
        "colab": {
          "base_uri": "https://localhost:8080/"
        },
        "id": "9P87TmTqZSoc",
        "outputId": "0e8844a4-d163-4717-dc41-2bfe64c2d7ff"
      },
      "source": [
        "df_SM.index"
      ],
      "execution_count": null,
      "outputs": [
        {
          "output_type": "execute_result",
          "data": {
            "text/plain": [
              "MultiIndex([(  0, '2021-03-02'),\n",
              "            (  0, '2021-03-03'),\n",
              "            (  0, '2021-03-04'),\n",
              "            (  0, '2021-03-05'),\n",
              "            (  0, '2021-03-06'),\n",
              "            (  0, '2021-03-08'),\n",
              "            (  0, '2021-03-09'),\n",
              "            (  0, '2021-03-10'),\n",
              "            (  0, '2021-03-11'),\n",
              "            (  0, '2021-03-12'),\n",
              "            ...\n",
              "            (282, '2021-04-16'),\n",
              "            (282, '2021-04-20'),\n",
              "            (282, '2021-04-22'),\n",
              "            (282, '2021-04-26'),\n",
              "            (282, '2021-04-27'),\n",
              "            (282, '2021-04-28'),\n",
              "            (282, '2021-05-04'),\n",
              "            (282, '2021-05-11'),\n",
              "            (282, '2021-05-14'),\n",
              "            (282, '2021-05-21')],\n",
              "           names=['SM명', '배달일자'], length=17869)"
            ]
          },
          "metadata": {},
          "execution_count": 31
        }
      ]
    },
    {
      "cell_type": "code",
      "metadata": {
        "colab": {
          "base_uri": "https://localhost:8080/",
          "height": 483
        },
        "id": "4g66wNUIVkih",
        "outputId": "a925d53e-9199-4784-c30a-1ff01bcc5098"
      },
      "source": [
        "import matplotlib.pyplot as plt\n",
        "\n",
        "df_SM.plot(figsize=(30,10), kind='bar', y='val')\n",
        "plt.axis('off')\n",
        "plt.show()"
      ],
      "execution_count": null,
      "outputs": [
        {
          "output_type": "display_data",
          "data": {
            "image/png": "[encoded data removed]",
            "text/plain": [
              "<Figure size 2160x720 with 1 Axes>"
            ]
          },
          "metadata": {
            "needs_background": "light"
          }
        }
      ]
    },
    {
      "cell_type": "code",
      "metadata": {
        "id": "Iw1ehVLf8TPz",
        "colab": {
          "base_uri": "https://localhost:8080/",
          "height": 143
        },
        "outputId": "db2f280a-b005-4aa1-a358-66268f62c444"
      },
      "source": [
        "df.head(3)"
      ],
      "execution_count": null,
      "outputs": [
        {
          "output_type": "execute_result",
          "data": {
            "text/html": [
              "<div>\n",
              "<style scoped>\n",
              "    .dataframe tbody tr th:only-of-type {\n",
              "        vertical-align: middle;\n",
              "    }\n",
              "\n",
              "    .dataframe tbody tr th {\n",
              "        vertical-align: top;\n",
              "    }\n",
              "\n",
              "    .dataframe thead th {\n",
              "        text-align: right;\n",
              "    }\n",
              "</style>\n",
              "<table border=\"1\" class=\"dataframe\">\n",
              "  <thead>\n",
              "    <tr style=\"text-align: right;\">\n",
              "      <th></th>\n",
              "      <th>수량(BOX)</th>\n",
              "      <th>운임</th>\n",
              "      <th>집배시간</th>\n",
              "      <th>배달일자</th>\n",
              "      <th>SM명</th>\n",
              "      <th>받는분주소</th>\n",
              "    </tr>\n",
              "  </thead>\n",
              "  <tbody>\n",
              "    <tr>\n",
              "      <th>0</th>\n",
              "      <td>1</td>\n",
              "      <td>5000</td>\n",
              "      <td>190148</td>\n",
              "      <td>2021-03-03</td>\n",
              "      <td>57</td>\n",
              "      <td>경기도 화성시 장안면 매바위로366번길 8 (주)BIT범우연구소</td>\n",
              "    </tr>\n",
              "    <tr>\n",
              "      <th>1</th>\n",
              "      <td>1</td>\n",
              "      <td>3500</td>\n",
              "      <td>190149</td>\n",
              "      <td>2021-03-03</td>\n",
              "      <td>57</td>\n",
              "      <td>경기도 화성시 장안면 버들로</td>\n",
              "    </tr>\n",
              "    <tr>\n",
              "      <th>2</th>\n",
              "      <td>1</td>\n",
              "      <td>2500</td>\n",
              "      <td>143956</td>\n",
              "      <td>2021-03-02</td>\n",
              "      <td>57</td>\n",
              "      <td>경기도 화성시 장안면 석포리</td>\n",
              "    </tr>\n",
              "  </tbody>\n",
              "</table>\n",
              "</div>"
            ],
            "text/plain": [
              "   수량(BOX)    운임    집배시간       배달일자  SM명                                받는분주소\n",
              "0        1  5000  190148 2021-03-03   57  경기도 화성시 장안면 매바위로366번길 8 (주)BIT범우연구소\n",
              "1        1  3500  190149 2021-03-03   57                      경기도 화성시 장안면 버들로\n",
              "2        1  2500  143956 2021-03-02   57                      경기도 화성시 장안면 석포리"
            ]
          },
          "metadata": {},
          "execution_count": 40
        }
      ]
    },
    {
      "cell_type": "code",
      "metadata": {
        "id": "BeKC82IvWxkp"
      },
      "source": [
        "df[]"
      ],
      "execution_count": null,
      "outputs": []
    }
  ]
}